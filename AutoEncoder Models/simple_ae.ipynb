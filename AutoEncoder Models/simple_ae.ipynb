{
  "cells": [
    {
      "cell_type": "code",
      "execution_count": 1,
      "metadata": {
        "id": "eGTScozdkt4B"
      },
      "outputs": [],
      "source": [
        "import torch\n",
        "import copy\n",
        "import numpy as np\n",
        "import pandas as pd\n",
        "import seaborn as sns\n",
        "from pylab import rcParams\n",
        "import matplotlib.pyplot as plt\n",
        "from matplotlib import rc\n",
        "from sklearn.model_selection import train_test_split\n",
        "from torch import nn, optim\n",
        "import torch.nn.functional as F\n",
        "from scipy.io.arff import loadarff\n",
        "import pandas as pd\n"
      ]
    },
    {
      "cell_type": "code",
      "execution_count": 2,
      "metadata": {
        "colab": {
          "base_uri": "https://localhost:8080/"
        },
        "id": "rdrsyOzbkxbn",
        "outputId": "028d8dc1-196d-4b33-d2de-4c9a09287b3b"
      },
      "outputs": [
        {
          "name": "stdout",
          "output_type": "stream",
          "text": [
            "cpu\n"
          ]
        }
      ],
      "source": [
        "device = torch.device(\"cuda\" if torch.cuda.is_available() else \"cpu\")\n",
        "print(device)"
      ]
    },
    {
      "cell_type": "markdown",
      "metadata": {
        "id": "1hJnNsmmWE-o"
      },
      "source": [
        "Reading Data"
      ]
    },
    {
      "cell_type": "code",
      "execution_count": 89,
      "metadata": {
        "id": "VoyELN0STx2J"
      },
      "outputs": [],
      "source": [
        "df_train = pd.read_csv('training_data')\n",
        "df_val = pd.read_csv('validation_data')\n",
        "df_test = pd.read_csv('test_data')\n",
        "df_anomaly = pd.read_csv('anomaly_data')"
      ]
    },
    {
      "cell_type": "code",
      "execution_count": 90,
      "metadata": {},
      "outputs": [],
      "source": [
        "df_train = torch.tensor(df_train.values)\n",
        "df_val = torch.tensor(df_val.values)\n",
        "df_test = torch.tensor(df_test.values)\n",
        "df_anomaly = torch.tensor(df_anomaly.values)"
      ]
    },
    {
      "cell_type": "code",
      "execution_count": 91,
      "metadata": {},
      "outputs": [],
      "source": [
        "# Normalize to 0 - 1\n",
        "min_val = torch.min(df_train)\n",
        "max_val = torch.max(df_train)\n",
        "\n",
        "df_train = (df_train - min_val) / (max_val - min_val)\n",
        "df_val = (df_val - min_val) / (max_val - min_val)\n",
        "df_test = (df_test - min_val) / (max_val - min_val)\n",
        "df_anomaly = (df_anomaly - min_val) / (max_val - min_val)"
      ]
    },
    {
      "cell_type": "code",
      "execution_count": 92,
      "metadata": {},
      "outputs": [],
      "source": [
        "df_train = pd.DataFrame(df_train).astype(\"float\")\n",
        "df_val = pd.DataFrame(df_val).astype(\"float\")\n",
        "df_test = pd.DataFrame(df_test).astype(\"float\")\n",
        "df_anomaly = pd.DataFrame(df_anomaly).astype(\"float\")\n"
      ]
    },
    {
      "cell_type": "code",
      "execution_count": 93,
      "metadata": {
        "id": "QY61KbJ1Uo5T"
      },
      "outputs": [],
      "source": [
        "def create_dataset(df):\n",
        "    sequences = df.astype(np.float32).to_numpy().tolist()\n",
        "    dataset = [torch.tensor(s).unsqueeze(1).float() for s in sequences]\n",
        "    n_seq, seq_len, n_features = torch.stack(dataset).shape\n",
        "    return dataset, seq_len, n_features"
      ]
    },
    {
      "cell_type": "code",
      "execution_count": 94,
      "metadata": {
        "id": "U-gK0SnjTPui"
      },
      "outputs": [],
      "source": [
        "train_dataset, seq_len, n_features = create_dataset(df_train)\n",
        "val_dataset, _, _ = create_dataset(df_val)\n",
        "test_normal_dataset, _, _ = create_dataset(df_test)\n",
        "test_anomaly_dataset, _, _ = create_dataset(df_anomaly)"
      ]
    },
    {
      "cell_type": "markdown",
      "metadata": {
        "id": "1fAMtHBIk-we"
      },
      "source": [
        "Model"
      ]
    },
    {
      "cell_type": "code",
      "execution_count": 95,
      "metadata": {
        "id": "EjOimEkFk-R_"
      },
      "outputs": [],
      "source": [
        "# Creating a PyTorch class\n",
        "class AE(torch.nn.Module):\n",
        "\tdef __init__(self):\n",
        "\t\tsuper().__init__()\n",
        "\t\t\n",
        "\t\t# Building an linear encoder with Linear\n",
        "\t\t# layer followed by Relu activation function\n",
        "\t\tself.encoder = torch.nn.Sequential(\n",
        "\t\t\ttorch.nn.Linear(n_features, 128),\n",
        "\t\t\ttorch.nn.ReLU(),\n",
        "\t\t\ttorch.nn.Linear(128, 64),\n",
        "\t\t\ttorch.nn.ReLU()\n",
        "\t\t)\n",
        "\t\t\n",
        "\t\t# Building an linear decoder with Linear\n",
        "\t\t# layer followed by Relu activation function\n",
        "\t\t# The Sigmoid activation function\n",
        "\t\t# outputs the value between 0 and 1\n",
        "\t\tself.decoder = torch.nn.Sequential(\n",
        "\t\t\ttorch.nn.Linear(64, 128),\n",
        "\t\t\ttorch.nn.ReLU(),\n",
        "\t\t\ttorch.nn.Linear(128, n_features),\n",
        "\t\t\ttorch.nn.Sigmoid()\n",
        "\t\t)\n",
        "\n",
        "\tdef forward(self, x):\n",
        "\t\tencoded = self.encoder(x)\n",
        "\t\tdecoded = self.decoder(encoded)\n",
        "\t\treturn decoded\n"
      ]
    },
    {
      "cell_type": "code",
      "execution_count": 96,
      "metadata": {
        "id": "cTKzmnYHlSoD"
      },
      "outputs": [],
      "source": [
        "def train_model(n_epochs):\n",
        "  # Model Initialization\n",
        "  model = AE()\n",
        "\n",
        "  # Validation using MSE Loss function\n",
        "  criterion = nn.L1Loss(reduction='sum').to(device)\n",
        "\n",
        "  # Using an Adam Optimizer with lr = 0.1\n",
        "  optimizer = torch.optim.Adam(model.parameters(), lr=1e-4)\n",
        "  #n_epochs = 3\n",
        "  history = dict(train=[], val=[])\n",
        "\n",
        "  best_model_wts = copy.deepcopy(model.state_dict())\n",
        "  best_loss = 10000.0\n",
        "\n",
        "  for epoch in range(1, n_epochs + 1):\n",
        "    model = model.train()\n",
        "\n",
        "    train_losses = []\n",
        "    for seq_true in train_dataset:\n",
        "      optimizer.zero_grad()\n",
        "\n",
        "      seq_true = seq_true.to(device)\n",
        "      seq_pred = model(seq_true)\n",
        "\n",
        "      loss = criterion(seq_pred, seq_true)\n",
        "\n",
        "      loss.backward()\n",
        "      optimizer.step()\n",
        "\n",
        "      train_losses.append(loss.item())\n",
        "\n",
        "    val_losses = []\n",
        "    model = model.eval()\n",
        "    with torch.no_grad():\n",
        "      for seq_true in val_dataset:\n",
        "\n",
        "        seq_true = seq_true.to(device)\n",
        "        seq_pred = model(seq_true)\n",
        "\n",
        "        loss = criterion(seq_pred, seq_true)\n",
        "        val_losses.append(loss.item())\n",
        "\n",
        "    train_loss = np.mean(train_losses)\n",
        "    val_loss = np.mean(val_losses)\n",
        "\n",
        "    history['train'].append(train_loss)\n",
        "    history['val'].append(val_loss)\n",
        "\n",
        "    if val_loss < best_loss:\n",
        "      best_loss = val_loss\n",
        "      best_model_wts = copy.deepcopy(model.state_dict())\n",
        "      \n",
        "    print(f'Epoch {epoch}: train loss {train_loss} val loss {val_loss}')\n",
        "\n",
        "  model.load_state_dict(best_model_wts)\n",
        "  return model.eval(), history"
      ]
    },
    {
      "cell_type": "code",
      "execution_count": 133,
      "metadata": {
        "colab": {
          "base_uri": "https://localhost:8080/"
        },
        "id": "M1cMGNtOmSEG",
        "outputId": "20946c82-d6a2-42ed-8a5a-96319823983f"
      },
      "outputs": [
        {
          "name": "stdout",
          "output_type": "stream",
          "text": [
            "Epoch 1: train loss 6.091654214268615 val loss 0.5698790251315661\n",
            "Epoch 2: train loss 0.17688929149721455 val loss 0.09629950192693161\n",
            "Epoch 3: train loss 0.07004402791949037 val loss 0.057228362595994176\n",
            "Epoch 4: train loss 0.044992370766186854 val loss 0.04252049455325625\n",
            "Epoch 5: train loss 0.0390218207471317 val loss 0.03922246702304578\n",
            "Epoch 6: train loss 0.03716704731044002 val loss 0.037291259794032465\n",
            "Epoch 7: train loss 0.03626863413995904 val loss 0.036170674636789926\n",
            "Epoch 8: train loss 0.03549471791747937 val loss 0.03447507137696357\n",
            "Epoch 9: train loss 0.03460000325368131 val loss 0.033950128698866114\n",
            "Epoch 10: train loss 0.03393581375476051 val loss 0.03389815268740398\n"
          ]
        }
      ],
      "source": [
        "model, history = train_model(n_epochs = 10)"
      ]
    },
    {
      "cell_type": "code",
      "execution_count": 134,
      "metadata": {
        "id": "WnGPcEQBnEX3"
      },
      "outputs": [
        {
          "data": {
            "image/png": "[encoded data removed]",
            "text/plain": [
              "<Figure size 432x288 with 1 Axes>"
            ]
          },
          "metadata": {
            "needs_background": "light"
          },
          "output_type": "display_data"
        }
      ],
      "source": [
        "ax = plt.figure().gca()\n",
        "\n",
        "ax.plot(history['train'])\n",
        "ax.plot(history['val'])\n",
        "plt.ylabel('Loss')\n",
        "plt.xlabel('Epoch')\n",
        "plt.legend(['train', 'test'])\n",
        "plt.title('Loss over training epochs')\n",
        "plt.show()"
      ]
    },
    {
      "cell_type": "code",
      "execution_count": 143,
      "metadata": {},
      "outputs": [],
      "source": [
        "MODEL_PATH = 'model_ae.pth'\n",
        "\n",
        "torch.save(model, MODEL_PATH)"
      ]
    },
    {
      "cell_type": "code",
      "execution_count": 144,
      "metadata": {},
      "outputs": [],
      "source": [
        "model = AE()\n",
        "\n",
        "if torch.cuda.is_available():\n",
        "    model = torch.load('model_ae.pth')\n",
        "else:\n",
        "    model = torch.load('model_ae.pth', map_location=torch.device('cpu'))\n",
        "\n",
        "model = model.to(device)"
      ]
    },
    {
      "cell_type": "code",
      "execution_count": 145,
      "metadata": {},
      "outputs": [],
      "source": [
        "def predict(model, dataset):\n",
        "  predictions, losses = [], []\n",
        "  criterion = nn.L1Loss(reduction='sum').to(device)\n",
        "  with torch.no_grad():\n",
        "    model = model.eval()\n",
        "    for seq_true in dataset:\n",
        "      seq_true = seq_true.to(device)\n",
        "      seq_pred = model(seq_true)\n",
        "\n",
        "      loss = criterion(seq_pred, seq_true)\n",
        "\n",
        "      predictions.append(seq_pred.cpu().numpy().flatten())\n",
        "      losses.append(loss.item())\n",
        "  return predictions, losses"
      ]
    },
    {
      "cell_type": "code",
      "execution_count": 146,
      "metadata": {},
      "outputs": [
        {
          "data": {
            "text/plain": [
              "<seaborn.axisgrid.FacetGrid at 0x1c358974eb0>"
            ]
          },
          "execution_count": 146,
          "metadata": {},
          "output_type": "execute_result"
        },
        {
          "data": {
            "image/png": "[encoded data removed]",
            "text/plain": [
              "<Figure size 360x360 with 1 Axes>"
            ]
          },
          "metadata": {
            "needs_background": "light"
          },
          "output_type": "display_data"
        }
      ],
      "source": [
        "_, losses = predict(model, train_dataset)\n",
        "sns.displot(losses, bins=50, kde=True)"
      ]
    },
    {
      "cell_type": "markdown",
      "metadata": {},
      "source": [
        "Choosing Threshold from the above plot which gives maximum correct predictions"
      ]
    },
    {
      "cell_type": "code",
      "execution_count": 147,
      "metadata": {},
      "outputs": [],
      "source": [
        "THRESHOLD = 0.05"
      ]
    },
    {
      "cell_type": "code",
      "execution_count": 148,
      "metadata": {},
      "outputs": [
        {
          "data": {
            "text/plain": [
              "<seaborn.axisgrid.FacetGrid at 0x1c359502d60>"
            ]
          },
          "execution_count": 148,
          "metadata": {},
          "output_type": "execute_result"
        },
        {
          "data": {
            "image/png": "[encoded data removed]",
            "text/plain": [
              "<Figure size 360x360 with 1 Axes>"
            ]
          },
          "metadata": {
            "needs_background": "light"
          },
          "output_type": "display_data"
        }
      ],
      "source": [
        "predictions, normal_pred_losses = predict(model, test_normal_dataset)\n",
        "sns.displot(normal_pred_losses, bins=50, kde=True)"
      ]
    },
    {
      "cell_type": "code",
      "execution_count": 149,
      "metadata": {},
      "outputs": [],
      "source": [
        "anomaly_dataset = test_anomaly_dataset[:len(test_normal_dataset)]"
      ]
    },
    {
      "cell_type": "code",
      "execution_count": 150,
      "metadata": {},
      "outputs": [
        {
          "data": {
            "text/plain": [
              "<seaborn.axisgrid.FacetGrid at 0x1c358af5a60>"
            ]
          },
          "execution_count": 150,
          "metadata": {},
          "output_type": "execute_result"
        },
        {
          "data": {
            "image/png": "[encoded data removed]",
            "text/plain": [
              "<Figure size 360x360 with 1 Axes>"
            ]
          },
          "metadata": {
            "needs_background": "light"
          },
          "output_type": "display_data"
        }
      ],
      "source": [
        "predictions, anomaly_pred_losses = predict(model, anomaly_dataset)\n",
        "sns.displot(anomaly_pred_losses, bins=50, kde=True)"
      ]
    },
    {
      "cell_type": "markdown",
      "metadata": {},
      "source": [
        "Performance Metrics"
      ]
    },
    {
      "cell_type": "code",
      "execution_count": 151,
      "metadata": {},
      "outputs": [
        {
          "name": "stdout",
          "output_type": "stream",
          "text": [
            "Recall: 0.9178082191780822\n",
            "Precision: 0.8835164835164835\n",
            "F1 score: 0.9003359462486001\n"
          ]
        }
      ],
      "source": [
        "normal_records = len(test_normal_dataset)\n",
        "anamolous_records = len(anomaly_dataset)\n",
        "total_test_records = normal_records + anamolous_records\n",
        "\n",
        "TN = sum(l <= THRESHOLD for l in normal_pred_losses) \n",
        "TP = sum(l > THRESHOLD for l in anomaly_pred_losses) \n",
        "FP = normal_records - TN\n",
        "FN = anamolous_records - TP \n",
        "\n",
        "Recall = TP/(TP + FN)\n",
        "Precision  = TP/(TP + FP)\n",
        "F1_score = (2 * Precision * Recall) / (Precision + Recall)\n",
        "\n",
        "print(\"Recall:\",Recall)\n",
        "print(\"Precision:\",Precision)\n",
        "print(\"F1 score:\",F1_score)"
      ]
    }
  ],
  "metadata": {
    "colab": {
      "provenance": []
    },
    "kernelspec": {
      "display_name": "Python 3.9.12",
      "language": "python",
      "name": "python3"
    },
    "language_info": {
      "codemirror_mode": {
        "name": "ipython",
        "version": 3
      },
      "file_extension": ".py",
      "mimetype": "text/x-python",
      "name": "python",
      "nbconvert_exporter": "python",
      "pygments_lexer": "ipython3",
      "version": "3.9.12"
    },
    "vscode": {
      "interpreter": {
        "hash": "ad2bdc8ecc057115af97d19610ffacc2b4e99fae6737bb82f5d7fb13d2f2c186"
      }
    }
  },
  "nbformat": 4,
  "nbformat_minor": 0
}
